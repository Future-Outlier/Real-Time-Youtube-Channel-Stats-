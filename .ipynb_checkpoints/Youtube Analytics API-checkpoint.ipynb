{
 "cells": [
  {
   "cell_type": "code",
   "execution_count": 1,
   "id": "bb9ef082",
   "metadata": {},
   "outputs": [],
   "source": [
    "import os\n",
    "import google_auth_oauthlib.flow\n",
    "import googleapiclient.discovery\n",
    "import googleapiclient.errors"
   ]
  },
  {
   "cell_type": "code",
   "execution_count": 2,
   "id": "44529097",
   "metadata": {},
   "outputs": [],
   "source": [
    "scopes = [\"https://www.googleapis.com/auth/yt-analytics.readonly\"]"
   ]
  },
  {
   "cell_type": "code",
   "execution_count": 3,
   "id": "e9c9542e",
   "metadata": {},
   "outputs": [],
   "source": [
    "client_secrets_file = \"oauth.json\""
   ]
  },
  {
   "cell_type": "code",
   "execution_count": 5,
   "id": "303fda64",
   "metadata": {},
   "outputs": [],
   "source": [
    "# Disable OAuthlib's HTTPS verification when running locally.\n",
    "os.environ[\"OAUTHLIB_INSECURE_TRANSPORT\"] = \"1\""
   ]
  },
  {
   "cell_type": "code",
   "execution_count": 6,
   "id": "d662dc52",
   "metadata": {},
   "outputs": [],
   "source": [
    "# Get credentials and create an API client\n",
    "flow = google_auth_oauthlib.flow.InstalledAppFlow.from_client_secrets_file(client_secrets_file, scopes)"
   ]
  },
  {
   "cell_type": "code",
   "execution_count": 8,
   "id": "c9d60945",
   "metadata": {},
   "outputs": [
    {
     "name": "stdout",
     "output_type": "stream",
     "text": [
      "Please visit this URL to authorize this application: https://accounts.google.com/o/oauth2/auth?response_type=code&client_id=499515213098-bg5fu39nhbsqph926do5ma59u7nf9dgt.apps.googleusercontent.com&redirect_uri=urn%3Aietf%3Awg%3Aoauth%3A2.0%3Aoob&scope=https%3A%2F%2Fwww.googleapis.com%2Fauth%2Fyt-analytics.readonly&state=AZNeYaWyVO9Q5K3cS3K1r07Z98Eook&prompt=consent&access_type=offline\n",
      "Enter the authorization code: 4/1AfgeXvs63AjviPk6fthHSoOXD-MOeAoDULqY6UiyLT1NYRZCkDTSXGCapVU\n"
     ]
    }
   ],
   "source": [
    "credentials = flow.run_console()"
   ]
  },
  {
   "cell_type": "code",
   "execution_count": 9,
   "id": "eb508078",
   "metadata": {},
   "outputs": [],
   "source": [
    "youtube_analytics = googleapiclient.discovery.build('youtubeAnalytics', 'v2', credentials=credentials)"
   ]
  },
  {
   "cell_type": "code",
   "execution_count": 36,
   "id": "4f0b47e0",
   "metadata": {},
   "outputs": [],
   "source": [
    "def get_data():\n",
    "    request = youtube_analytics.reports().query(\n",
    "                    startDate='2022-11-01', \n",
    "                    endDate='2022-11-11',\n",
    "                    ids='channel==UCOwyfb8QhvvXQpoQLJpmEKQ',\n",
    "                    dimensions= 'day', \n",
    "                    metrics= 'views,estimatedMinutesWatched',\n",
    "                    )\n",
    "    response = request.execute()\n",
    "    return response"
   ]
  },
  {
   "cell_type": "code",
   "execution_count": 37,
   "id": "824ed3b1",
   "metadata": {},
   "outputs": [],
   "source": [
    "data = get_data()"
   ]
  },
  {
   "cell_type": "code",
   "execution_count": 38,
   "id": "8a3d54b7",
   "metadata": {},
   "outputs": [
    {
     "data": {
      "text/plain": [
       "dict_keys(['kind', 'columnHeaders', 'rows'])"
      ]
     },
     "execution_count": 38,
     "metadata": {},
     "output_type": "execute_result"
    }
   ],
   "source": [
    "data.keys()"
   ]
  },
  {
   "cell_type": "code",
   "execution_count": 39,
   "id": "206894fa",
   "metadata": {},
   "outputs": [
    {
     "data": {
      "text/plain": [
       "'youtubeAnalytics#resultTable'"
      ]
     },
     "execution_count": 39,
     "metadata": {},
     "output_type": "execute_result"
    }
   ],
   "source": [
    "data['kind']"
   ]
  },
  {
   "cell_type": "code",
   "execution_count": 40,
   "id": "4e417b38",
   "metadata": {},
   "outputs": [
    {
     "data": {
      "text/plain": [
       "[{'name': 'day', 'columnType': 'DIMENSION', 'dataType': 'STRING'},\n",
       " {'name': 'views', 'columnType': 'METRIC', 'dataType': 'INTEGER'},\n",
       " {'name': 'estimatedMinutesWatched',\n",
       "  'columnType': 'METRIC',\n",
       "  'dataType': 'INTEGER'}]"
      ]
     },
     "execution_count": 40,
     "metadata": {},
     "output_type": "execute_result"
    }
   ],
   "source": [
    "data['columnHeaders']"
   ]
  },
  {
   "cell_type": "code",
   "execution_count": 41,
   "id": "fb88d059",
   "metadata": {},
   "outputs": [
    {
     "data": {
      "text/plain": [
       "[['2022-11-01', 14, 18],\n",
       " ['2022-11-02', 23, 20],\n",
       " ['2022-11-03', 12, 33],\n",
       " ['2022-11-04', 16, 31],\n",
       " ['2022-11-05', 8, 27],\n",
       " ['2022-11-06', 15, 26],\n",
       " ['2022-11-07', 11, 19]]"
      ]
     },
     "execution_count": 41,
     "metadata": {},
     "output_type": "execute_result"
    }
   ],
   "source": [
    "data['rows']"
   ]
  },
  {
   "cell_type": "code",
   "execution_count": null,
   "id": "b03aa6fc",
   "metadata": {},
   "outputs": [],
   "source": []
  },
  {
   "cell_type": "code",
   "execution_count": null,
   "id": "fc6e51b1",
   "metadata": {},
   "outputs": [],
   "source": []
  }
 ],
 "metadata": {
  "kernelspec": {
   "display_name": "Python 3 (ipykernel)",
   "language": "python",
   "name": "python3"
  },
  "language_info": {
   "codemirror_mode": {
    "name": "ipython",
    "version": 3
   },
   "file_extension": ".py",
   "mimetype": "text/x-python",
   "name": "python",
   "nbconvert_exporter": "python",
   "pygments_lexer": "ipython3",
   "version": "3.9.6"
  }
 },
 "nbformat": 4,
 "nbformat_minor": 5
}
